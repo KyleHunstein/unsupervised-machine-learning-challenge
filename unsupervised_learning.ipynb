{
 "cells": [
  {
   "cell_type": "code",
   "execution_count": 21,
   "metadata": {},
   "outputs": [],
   "source": [
    "# Imports\n",
    "from sklearn.preprocessing import normalize\n",
    "from scipy.cluster.hierarchy import dendrogram, linkage\n",
    "from sklearn.cluster import AgglomerativeClustering\n",
    "import matplotlib.pyplot as plt\n",
    "from pathlib import Path\n",
    "import pandas as pd\n",
    "import numpy as np\n",
    "from sklearn.model_selection import train_test_split\n",
    "from sklearn.preprocessing import StandardScaler\n",
    "from sklearn.manifold import TSNE\n",
    "from sklearn.decomposition import PCA"
   ]
  },
  {
   "cell_type": "code",
   "execution_count": 22,
   "metadata": {},
   "outputs": [
    {
     "name": "stdout",
     "output_type": "stream",
     "text": [
      "<class 'pandas.core.frame.DataFrame'>\n",
      "RangeIndex: 618 entries, 0 to 617\n",
      "Data columns (total 15 columns):\n",
      " #   Column     Non-Null Count  Dtype  \n",
      "---  ------     --------------  -----  \n",
      " 0   AGE        618 non-null    int64  \n",
      " 1   SPHEQ      618 non-null    float64\n",
      " 2   AL         618 non-null    float64\n",
      " 3   ACD        618 non-null    float64\n",
      " 4   LT         618 non-null    float64\n",
      " 5   VCD        618 non-null    float64\n",
      " 6   SPORTHR    618 non-null    int64  \n",
      " 7   READHR     618 non-null    int64  \n",
      " 8   COMPHR     618 non-null    int64  \n",
      " 9   STUDYHR    618 non-null    int64  \n",
      " 10  TVHR       618 non-null    int64  \n",
      " 11  DIOPTERHR  618 non-null    int64  \n",
      " 12  MOMMY      618 non-null    int64  \n",
      " 13  DADMY      618 non-null    int64  \n",
      " 14  MYOPIC     618 non-null    int64  \n",
      "dtypes: float64(5), int64(10)\n",
      "memory usage: 72.5 KB\n",
      "None\n",
      "   AGE  SPHEQ         AL    ACD     LT    VCD  SPORTHR  READHR  COMPHR  \\\n",
      "0    6 -0.052  21.889999  3.690  3.498  14.70       45       8       0   \n",
      "1    6  0.608  22.379999  3.702  3.392  15.29        4       0       1   \n",
      "2    6  1.179  22.490000  3.462  3.514  15.52       14       0       2   \n",
      "3    6  0.525  22.200001  3.862  3.612  14.73       18      11       0   \n",
      "4    5  0.697  23.290001  3.676  3.454  16.16       14       0       0   \n",
      "\n",
      "   STUDYHR  TVHR  DIOPTERHR  MOMMY  DADMY  MYOPIC  \n",
      "0        0    10         34      1      1       1  \n",
      "1        1     7         12      1      1       0  \n",
      "2        0    10         14      0      0       0  \n",
      "3        0     4         37      0      1       1  \n",
      "4        0     4          4      1      0       0  \n"
     ]
    }
   ],
   "source": [
    "# Loading the Data\n",
    "myopia = pd.read_csv('Resources/myopia.csv')\n",
    "print(myopia.info())\n",
    "print(myopia.head())"
   ]
  },
  {
   "cell_type": "code",
   "execution_count": 23,
   "metadata": {},
   "outputs": [],
   "source": [
    "# #Preparing Data\n",
    "\n",
    "# # Split the data into X_train, X_test, y_train, y_test\n",
    "# x = myopia.drop('MYOPIA', axis=1)\n",
    "\n",
    "# # create labels set y by using the loan_status column\n",
    "# y = myopia['MYOPIA']\n",
    "\n",
    "# # split the data into training and testing datasets\n",
    "# x_train, x_test, y_train, y_test = train_test_split(x, y, test_size=0.2, random_state=0)"
   ]
  },
  {
   "cell_type": "code",
   "execution_count": 24,
   "metadata": {},
   "outputs": [],
   "source": [
    "#Prepairing data\n",
    "\n",
    "# Drop MYOPIA column\n",
    "myopia_data_temp = myopia.drop(\"MYOPIC\", axis=1)\n",
    "\n",
    "\n",
    "\n",
    "# Standardize the data\n",
    "scaler = StandardScaler()\n",
    "myopia_data = scaler.fit_transform(myopia_data_temp)\n",
    "\n",
    "# Convert the standardized data back into a Pandas DataFrame\n",
    "myopia_data = pd.DataFrame(myopia_data, columns = myopia_data_temp.columns)"
   ]
  },
  {
   "cell_type": "code",
   "execution_count": 29,
   "metadata": {},
   "outputs": [
    {
     "name": "stdout",
     "output_type": "stream",
     "text": [
      "[0.77404852 0.20768858]\n"
     ]
    }
   ],
   "source": [
    "# Dimentionality Reduction\n",
    "from sklearn.decomposition import PCA\n",
    "\n",
    "# Apply PCA to the standardized myopia data\n",
    "pca = PCA(n_components=.90)\n",
    "myopia_data_pca = pca.fit_transform(myopia_data)\n",
    "\n",
    "# Calculate the explained variance ratio\n",
    "explained_variance = pca.explained_variance_ratio_\n",
    "\n",
    "# Print the explained variance ratio\n",
    "print(explained_variance)"
   ]
  },
  {
   "cell_type": "code",
   "execution_count": 33,
   "metadata": {},
   "outputs": [
    {
     "data": {
      "image/png": "[encoded data removed]",
      "text/plain": [
       "<Figure size 432x288 with 1 Axes>"
      ]
     },
     "metadata": {
      "needs_background": "light"
     },
     "output_type": "display_data"
    }
   ],
   "source": [
    "# t-SNE\n",
    "tsne = TSNE(learning_rate=35)\n",
    "\n",
    "tsne_features = tsne.fit_transform(myopia_data_pca)\n",
    "tsne_df = pd.DataFrame(tsne_features)\n",
    "\n",
    "# Prepare to plot the dataset\n",
    "\n",
    "# The first column of transformed features\n",
    "tsne_df['x'] = tsne_features[:,0]\n",
    "\n",
    "# The second column of transformed features\n",
    "tsne_df['y'] = tsne_features[:,1]\n",
    "\n",
    "# Visualize the clusters\n",
    "plt.scatter(tsne_df['x'], tsne_df['y'])\n",
    "plt.show()"
   ]
  },
  {
   "cell_type": "code",
   "execution_count": 34,
   "metadata": {},
   "outputs": [
    {
     "name": "stderr",
     "output_type": "stream",
     "text": [
      "c:\\Users\\kyleh\\anaconda3\\lib\\site-packages\\sklearn\\cluster\\_kmeans.py:881: UserWarning: KMeans is known to have a memory leak on Windows with MKL, when there are less chunks than available threads. You can avoid it by setting the environment variable OMP_NUM_THREADS=3.\n",
      "  warnings.warn(\n"
     ]
    },
    {
     "data": {
      "image/png": "[encoded data removed]",
      "text/plain": [
       "<Figure size 432x288 with 1 Axes>"
      ]
     },
     "metadata": {
      "needs_background": "light"
     },
     "output_type": "display_data"
    }
   ],
   "source": [
    "# Elbow\n",
    "from sklearn.cluster import KMeans\n",
    "inertia = []\n",
    "for k in range(1, 11):\n",
    "    kmeans = KMeans(n_clusters=k)\n",
    "    kmeans.fit(myopia_data_pca)\n",
    "    inertia.append(kmeans.inertia_)\n",
    "\n",
    "plt.plot(range(1, 11), inertia, marker='o')\n",
    "plt.xlabel('Number of Clusters (k)')\n",
    "plt.ylabel('Inertia')\n",
    "plt.show()"
   ]
  },
  {
   "attachments": {},
   "cell_type": "markdown",
   "metadata": {},
   "source": [
    "The patients can definitely be clustered. \n",
    "\n",
    "Four clusters would be the best, as more than that has diminishing results.\n",
    "There is evidence to support five clusters, but that becomes a question of preformance and what the data will be used for. If it would significantly affect the time the process takes, the results would likely not provide enough benifit over using four clusters to warrent it. "
   ]
  }
 ],
 "metadata": {
  "kernelspec": {
   "display_name": "base",
   "language": "python",
   "name": "python3"
  },
  "language_info": {
   "codemirror_mode": {
    "name": "ipython",
    "version": 3
   },
   "file_extension": ".py",
   "mimetype": "text/x-python",
   "name": "python",
   "nbconvert_exporter": "python",
   "pygments_lexer": "ipython3",
   "version": "3.9.7"
  },
  "orig_nbformat": 4,
  "vscode": {
   "interpreter": {
    "hash": "34c67e8af8d6d08139dc7baa7182b3b866a978042d5934b1571eea78e1d74667"
   }
  }
 },
 "nbformat": 4,
 "nbformat_minor": 2
}
